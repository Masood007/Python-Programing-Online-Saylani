{
 "cells": [
  {
   "cell_type": "code",
   "execution_count": 1,
   "metadata": {},
   "outputs": [
    {
     "name": "stdout",
     "output_type": "stream",
     "text": [
      "Enter marks of the Subject 87\n",
      "Enter marks of the Subject 77\n",
      "Enter marks of the Subject 74\n",
      "Enter marks of the Subject 64\n",
      "Enter marks of the Subject 54\n",
      "marks in Subject  1  is : 87  And grade is : A+\n",
      "marks in Subject  2  is : 77  And grade is : A\n",
      "marks in Subject  3  is : 74  And grade is : B+\n",
      "marks in Subject  4  is : 64  And grade is : B\n",
      "marks in Subject  5  is : 54  And grade is : B\n",
      "tatal marks \t\t\t\t :  356\n"
     ]
    }
   ],
   "source": [
    "marks =[]\n",
    "totalMarks=0\n",
    "for i in range(1,6):\n",
    "    num= int(input(\"Enter marks of the Subject \"))\n",
    "    marks.append(num)\n",
    "    totalMarks+=marks[i-1]\n",
    "for i in range(len(marks)):\n",
    "    if marks[i]>=85:\n",
    "        print(\"marks in Subject \",i+1,\" is :\",marks[i],\" And grade is : A+\")\n",
    "    elif marks[i]>=75 and marks[i] < 85:\n",
    "        print(\"marks in Subject \",i+1,\" is :\",marks[i],\" And grade is : A\")\n",
    "    elif marks[i]>=65 and marks[i] < 75:\n",
    "        print(\"marks in Subject \",i+1,\" is :\",marks[i],\" And grade is : B+\")\n",
    "    elif marks[i]>=50 and marks[i] < 65:\n",
    "        print(\"marks in Subject \",i+1,\" is :\",marks[i],\" And grade is : B\")\n",
    "    else:\n",
    "         print(\"marks in Subject \",i+1,\" is :\",marks[i],\" And grade is : Fail\")\n",
    "print(\"tatal marks \\t\\t\\t\\t : \",totalMarks)"
   ]
  },
  {
   "cell_type": "code",
   "execution_count": 2,
   "metadata": {},
   "outputs": [
    {
     "name": "stdout",
     "output_type": "stream",
     "text": [
      "Enter the number45\n",
      "45  is Odd\n"
     ]
    }
   ],
   "source": [
    "num=int(input(\"Enter the number\"))\n",
    "if num%2==0:\n",
    "    print(num,\" is even\")\n",
    "else:\n",
    "    print(num,\" is Odd\")"
   ]
  },
  {
   "cell_type": "code",
   "execution_count": 3,
   "metadata": {},
   "outputs": [
    {
     "name": "stdout",
     "output_type": "stream",
     "text": [
      "Size of the list :  6\n",
      "Size of the list :  6\n"
     ]
    }
   ],
   "source": [
    "arr = [1,2,4,67,\"Masood\",\"ahmed\"]\n",
    "#method 1 by using funtion\n",
    "print(\"Size of the list : \",len(arr))\n",
    "#method 2 by using loop\n",
    "counter =0;\n",
    "for i in arr:\n",
    "    counter+=1\n",
    "print(\"Size of the list : \",counter)"
   ]
  },
  {
   "cell_type": "code",
   "execution_count": 4,
   "metadata": {},
   "outputs": [
    {
     "name": "stdout",
     "output_type": "stream",
     "text": [
      "Sum of the elements in list :  159\n"
     ]
    }
   ],
   "source": [
    "arr = [1,2,4,67,85]\n",
    "sum=0\n",
    "for i in range(len(arr)):\n",
    "    sum+=arr[i]\n",
    "print(\"Sum of the elements in list : \",sum)"
   ]
  },
  {
   "cell_type": "code",
   "execution_count": 5,
   "metadata": {},
   "outputs": [
    {
     "name": "stdout",
     "output_type": "stream",
     "text": [
      "maximum number in list :  85\n"
     ]
    }
   ],
   "source": [
    "arr = [1,2,4,67,85]\n",
    "max=0\n",
    "for i  in arr:\n",
    "    if i>max:\n",
    "        max=i\n",
    "print(\"maximum number in list : \",max)"
   ]
  },
  {
   "cell_type": "code",
   "execution_count": 6,
   "metadata": {},
   "outputs": [
    {
     "name": "stdout",
     "output_type": "stream",
     "text": [
      "1 1 2 3 \n"
     ]
    }
   ],
   "source": [
    "a = [1, 1, 2, 3, 5, 8, 13, 21, 34, 55, 89]\n",
    "for i in a:\n",
    "    if i<5:\n",
    "        print(i,end=\" \")\n",
    "print()"
   ]
  },
  {
   "cell_type": "code",
   "execution_count": null,
   "metadata": {},
   "outputs": [],
   "source": []
  }
 ],
 "metadata": {
  "kernelspec": {
   "display_name": "Python 3",
   "language": "python",
   "name": "python3"
  },
  "language_info": {
   "codemirror_mode": {
    "name": "ipython",
    "version": 3
   },
   "file_extension": ".py",
   "mimetype": "text/x-python",
   "name": "python",
   "nbconvert_exporter": "python",
   "pygments_lexer": "ipython3",
   "version": "3.7.4"
  }
 },
 "nbformat": 4,
 "nbformat_minor": 2
}
