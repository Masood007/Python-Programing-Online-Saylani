{
 "cells": [
  {
   "cell_type": "code",
   "execution_count": 1,
   "metadata": {},
   "outputs": [
    {
     "name": "stdout",
     "output_type": "stream",
     "text": [
      "enter 1st number : 56\n",
      "enter 2nd number : 34\n",
      "select any oprtation from -,+,*,/ : +\n",
      "90\n"
     ]
    }
   ],
   "source": [
    "a=int(input(\"enter 1st number : \"))\n",
    "b=int(input(\"enter 2nd number : \"))\n",
    "c=input(\"select any oprtation from -,+,*,/ : \")\n",
    "if c==\"+\":\n",
    "    z=a+b\n",
    "    print(z)\n",
    "elif c==\"-\":\n",
    "    z=a-b\n",
    "    print(z)\n",
    "elif c==\"*\":\n",
    "    z=a*b\n",
    "    print(z)\n",
    "elif c==\"/\":\n",
    "    z=a/b\n",
    "    print(z)"
   ]
  },
  {
   "cell_type": "code",
   "execution_count": 2,
   "metadata": {},
   "outputs": [
    {
     "name": "stdout",
     "output_type": "stream",
     "text": [
      "3\n",
      "8\n"
     ]
    }
   ],
   "source": [
    "a=[\"Masood\",\"Ahmed\",3,8]\n",
    "temp= type(1)\n",
    "for i in a:\n",
    "    if type(i)==temp:\n",
    "        print(i)"
   ]
  },
  {
   "cell_type": "code",
   "execution_count": 3,
   "metadata": {},
   "outputs": [
    {
     "name": "stdout",
     "output_type": "stream",
     "text": [
      "{0: 0, 1: 21, 2: 23, 3: 53}\n",
      "{0: 0, 1: 21, 2: 23, 3: 53, 4: 64}\n"
     ]
    }
   ],
   "source": [
    "d = {0:00, 1:21, 2:23, 3:53}\n",
    "print(d)\n",
    "d.update({4:64})\n",
    "print(d)"
   ]
  },
  {
   "cell_type": "code",
   "execution_count": 4,
   "metadata": {},
   "outputs": [
    {
     "name": "stdout",
     "output_type": "stream",
     "text": [
      "223\n"
     ]
    }
   ],
   "source": [
    "mydict = {'value1':79,'vallue2':94,'value3':50}\n",
    "print(sum(mydict.values()))"
   ]
  },
  {
   "cell_type": "code",
   "execution_count": 6,
   "metadata": {},
   "outputs": [
    {
     "name": "stdout",
     "output_type": "stream",
     "text": [
      "[]\n"
     ]
    }
   ],
   "source": [
    "myList = [9,21,25,30,43,47,50,90,60]\n",
    "count = 0\n",
    "item = 0\n",
    "newList = []\n",
    "for i in myList:\n",
    "    count = myList.count(i)\n",
    "    if (count > 1 and item != i):\n",
    "        item = i\n",
    "        newList.append(i)\n",
    "print(newList)"
   ]
  },
  {
   "cell_type": "code",
   "execution_count": 7,
   "metadata": {},
   "outputs": [
    {
     "name": "stdout",
     "output_type": "stream",
     "text": [
      "Key is present in the dictionary\n",
      "Key is not present in the dictionary\n"
     ]
    }
   ],
   "source": [
    "d = {1: 10, 2: 20, 3: 30, 4: 40, 5: 50, 6: 60}\n",
    "def is_key_present(x):\n",
    "  if x in d:\n",
    "      print('Key is present in the dictionary')\n",
    "  else:\n",
    "      print('Key is not present in the dictionary')\n",
    "is_key_present(3)\n",
    "is_key_present(7)"
   ]
  },
  {
   "cell_type": "code",
   "execution_count": null,
   "metadata": {},
   "outputs": [],
   "source": []
  }
 ],
 "metadata": {
  "kernelspec": {
   "display_name": "Python 3",
   "language": "python",
   "name": "python3"
  },
  "language_info": {
   "codemirror_mode": {
    "name": "ipython",
    "version": 3
   },
   "file_extension": ".py",
   "mimetype": "text/x-python",
   "name": "python",
   "nbconvert_exporter": "python",
   "pygments_lexer": "ipython3",
   "version": "3.7.4"
  }
 },
 "nbformat": 4,
 "nbformat_minor": 2
}
