{
 "cells": [
  {
   "cell_type": "code",
   "execution_count": 1,
   "metadata": {},
   "outputs": [
    {
     "name": "stdout",
     "output_type": "stream",
     "text": [
      "firstName  Masood\n",
      "lastName  Ahmed\n",
      "age  20\n",
      "city Larkana\n",
      "Intermediate\n",
      "BE Software\n",
      "{'firstName ': 'Masood', 'lastName ': 'Ahmed', 'age ': 20, 'city': 'Larkana'}\n"
     ]
    }
   ],
   "source": [
    "personInfo={\"firstName \": \"Masood\",\"lastName \": \"Ahmed\",\"age \" :20,\"city\": \"Larkana\"}\n",
    "for i,j in personInfo.items():\n",
    "    print(i,j)\n",
    "\n",
    "personInfo[\"qualification\"]=\"Intermediate\"\n",
    "print(personInfo[\"qualification\"])\n",
    "\n",
    "personInfo[\"qualification\"]=\"BE Software\"\n",
    "print(personInfo[\"qualification\"])\n",
    "\n",
    "del personInfo[\"qualification\"]\n",
    "print(personInfo)"
   ]
  },
  {
   "cell_type": "code",
   "execution_count": 2,
   "metadata": {},
   "outputs": [
    {
     "name": "stdout",
     "output_type": "stream",
     "text": [
      "Hyderabad: {'population': 570000, 'country': 'Pakistan', 'fact': 'after karachi it is the Largest city  of sindh'}\n",
      "Karachi: {'population:': 2500000, 'country:': 'Pakistan', 'fact': 'largest city of Pakistan'}\n",
      "Lahore: {'population:': 1000000, 'country:': 'pakistan', 'fact': ' after karachi it is the Largest City  of Pakistan'}\n"
     ]
    }
   ],
   "source": [
    "cities={\"Hyderabad:\":{\"population\":570000,\"country\":\"Pakistan\",\"fact\":\"after karachi it is the Largest city  of sindh\"},\n",
    "\n",
    "        \"Karachi:\":{\"population:\":2500000,\"country:\":\"Pakistan\",\"fact\":\"largest city of Pakistan\"},\n",
    "        \"Lahore:\":{\"population:\":1000000,\"country:\":\"pakistan\",\"fact\":\" after karachi it is the Largest City  of Pakistan\"}}\n",
    "for i,j in cities.items():\n",
    "    print(i,j)"
   ]
  },
  {
   "cell_type": "code",
   "execution_count": 3,
   "metadata": {},
   "outputs": [
    {
     "name": "stdout",
     "output_type": "stream",
     "text": [
      "Press '0' when you are finished \n",
      "enter your age:3\n",
      "Ticket is free for you\n",
      "Press '0' when you are finished \n",
      "enter your age:5\n",
      "The ticket  is of $10 for you \n",
      "Press '0' when you are finished \n",
      "enter your age:19\n",
      "The ticket  is of $15 for you\n",
      "Press '0' when you are finished \n",
      "enter your age:0\n"
     ]
    }
   ],
   "source": [
    "while True:\n",
    "    print(\"Press '0' when you are finished \")\n",
    "    age = int(input(\"enter your age:\"))\n",
    "    \n",
    "    if age == 0:\n",
    "        break\n",
    "    elif age <= 3:\n",
    "        print(\"Ticket is free for you\")\n",
    "    elif age <= 10:\n",
    "        print(\"The ticket  is of $10 for you \")\n",
    "    else:\n",
    "        print(\"The ticket  is of $15 for you\")"
   ]
  },
  {
   "cell_type": "code",
   "execution_count": 4,
   "metadata": {},
   "outputs": [
    {
     "name": "stdout",
     "output_type": "stream",
     "text": [
      "My Favourite book is Fourty Rules of Love\n"
     ]
    }
   ],
   "source": [
    "def favouriteBook(name):\n",
    "    print(\"My Favourite book is \"+name)\n",
    "name= \"Fourty Rules of Love\"\n",
    "favouriteBook(name)"
   ]
  },
  {
   "cell_type": "code",
   "execution_count": 9,
   "metadata": {},
   "outputs": [
    {
     "name": "stdout",
     "output_type": "stream",
     "text": [
      "Guess the Correct num :5\n",
      "Your guess is smaller than the Actual\n",
      "Guess the Correct num :10\n",
      "Your guess is smaller than the Actual\n",
      "Guess the Correct num :47\n",
      "Your guess  is higher than  the Actual \n",
      "Sorry you failed to \n",
      "The Actual number was :  27\n"
     ]
    }
   ],
   "source": [
    "import random\n",
    "guess=random.randint(1,30)\n",
    "for x in range(3):\n",
    "    y = int(input(\"Guess the Correct num :\"))\n",
    "    if y>guess:\n",
    "        print(\"Your guess  is higher than  the Actual \")\n",
    "    elif y<guess:\n",
    "        print(\"Your guess is smaller than the Actual\")\n",
    "    elif y==guess:\n",
    "        print(\"WOw , congratulation your guess is Correct\")\n",
    "        break\n",
    "    if x==2:\n",
    "        print(\"Sorry you failed to \")\n",
    "        print(\"The Actual number was : \",guess)"
   ]
  },
  {
   "cell_type": "code",
   "execution_count": null,
   "metadata": {},
   "outputs": [],
   "source": []
  }
 ],
 "metadata": {
  "kernelspec": {
   "display_name": "Python 3",
   "language": "python",
   "name": "python3"
  },
  "language_info": {
   "codemirror_mode": {
    "name": "ipython",
    "version": 3
   },
   "file_extension": ".py",
   "mimetype": "text/x-python",
   "name": "python",
   "nbconvert_exporter": "python",
   "pygments_lexer": "ipython3",
   "version": "3.7.4"
  }
 },
 "nbformat": 4,
 "nbformat_minor": 2
}
